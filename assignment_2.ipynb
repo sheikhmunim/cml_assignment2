{
 "cells": [
  {
   "cell_type": "markdown",
   "id": "9b2859a2",
   "metadata": {},
   "source": [
    "## Assignment 1 - Machine Learning Project\n",
    "### Project 1: Classify Images of Colon Cancer\n",
    "##### Group No. 3: Sheikh Abdul Munim (s4076159), Liya Benoy (s4027344)"
   ]
  },
  {
   "cell_type": "code",
   "execution_count": 11,
   "id": "2802cc95",
   "metadata": {},
   "outputs": [],
   "source": [
    "#importing required libraries\n",
    "import pandas as pd\n",
    "\n",
    "import os\n",
    "from PIL import Image\n",
    "import matplotlib.pyplot as plt\n",
    "from collections import OrderedDict, defaultdict\n",
    "import numpy as np"
   ]
  },
  {
   "cell_type": "code",
   "execution_count": 12,
   "id": "63f6d709",
   "metadata": {},
   "outputs": [
    {
     "data": {
      "text/html": [
       "<div>\n",
       "<style scoped>\n",
       "    .dataframe tbody tr th:only-of-type {\n",
       "        vertical-align: middle;\n",
       "    }\n",
       "\n",
       "    .dataframe tbody tr th {\n",
       "        vertical-align: top;\n",
       "    }\n",
       "\n",
       "    .dataframe thead th {\n",
       "        text-align: right;\n",
       "    }\n",
       "</style>\n",
       "<table border=\"1\" class=\"dataframe\">\n",
       "  <thead>\n",
       "    <tr style=\"text-align: right;\">\n",
       "      <th></th>\n",
       "      <th>InstanceID</th>\n",
       "      <th>patientID</th>\n",
       "      <th>ImageName</th>\n",
       "      <th>cellTypeName</th>\n",
       "      <th>cellType</th>\n",
       "      <th>isCancerous</th>\n",
       "    </tr>\n",
       "  </thead>\n",
       "  <tbody>\n",
       "    <tr>\n",
       "      <th>0</th>\n",
       "      <td>22405</td>\n",
       "      <td>1</td>\n",
       "      <td>22405.png</td>\n",
       "      <td>fibroblast</td>\n",
       "      <td>0</td>\n",
       "      <td>0</td>\n",
       "    </tr>\n",
       "    <tr>\n",
       "      <th>1</th>\n",
       "      <td>22406</td>\n",
       "      <td>1</td>\n",
       "      <td>22406.png</td>\n",
       "      <td>fibroblast</td>\n",
       "      <td>0</td>\n",
       "      <td>0</td>\n",
       "    </tr>\n",
       "    <tr>\n",
       "      <th>2</th>\n",
       "      <td>22407</td>\n",
       "      <td>1</td>\n",
       "      <td>22407.png</td>\n",
       "      <td>fibroblast</td>\n",
       "      <td>0</td>\n",
       "      <td>0</td>\n",
       "    </tr>\n",
       "    <tr>\n",
       "      <th>3</th>\n",
       "      <td>22408</td>\n",
       "      <td>1</td>\n",
       "      <td>22408.png</td>\n",
       "      <td>fibroblast</td>\n",
       "      <td>0</td>\n",
       "      <td>0</td>\n",
       "    </tr>\n",
       "    <tr>\n",
       "      <th>4</th>\n",
       "      <td>22409</td>\n",
       "      <td>1</td>\n",
       "      <td>22409.png</td>\n",
       "      <td>fibroblast</td>\n",
       "      <td>0</td>\n",
       "      <td>0</td>\n",
       "    </tr>\n",
       "  </tbody>\n",
       "</table>\n",
       "</div>"
      ],
      "text/plain": [
       "   InstanceID  patientID  ImageName cellTypeName  cellType  isCancerous\n",
       "0       22405          1  22405.png   fibroblast         0            0\n",
       "1       22406          1  22406.png   fibroblast         0            0\n",
       "2       22407          1  22407.png   fibroblast         0            0\n",
       "3       22408          1  22408.png   fibroblast         0            0\n",
       "4       22409          1  22409.png   fibroblast         0            0"
      ]
     },
     "execution_count": 12,
     "metadata": {},
     "output_type": "execute_result"
    }
   ],
   "source": [
    "main_data = pd.read_csv(\"Image_classification_data\\data_labels_mainData.csv\")\n",
    "main_data.head()"
   ]
  },
  {
   "cell_type": "code",
   "execution_count": 13,
   "id": "0918d257",
   "metadata": {},
   "outputs": [],
   "source": [
    "class ColonCancerPatchServer:\n",
    "    def __init__(self, main_data_path, extra_data_path, image_folder):\n",
    "        self.main_df = pd.read_csv(main_data_path)\n",
    "        self.extra_df = pd.read_csv(extra_data_path)\n",
    "        self.image_folder = image_folder\n",
    "\n",
    "        # Merge both datasets and track source\n",
    "        self.main_df[\"source\"] = \"main\"\n",
    "        self.extra_df[\"source\"] = \"extra\"\n",
    "        self.data = pd.concat([self.main_df, self.extra_df], ignore_index=True)\n",
    "        self.data[\"ImagePath\"] = self.data[\"ImageName\"].apply(lambda x: os.path.join(image_folder, x))\n",
    "\n",
    "    def __len__(self):\n",
    "        return len(self.data)\n",
    "\n",
    "    def get_image(self, idx, target_size=(27, 27), normalize=True):\n",
    "        image_path = self.data.iloc[idx][\"ImagePath\"]\n",
    "        try:\n",
    "            img = Image.open(image_path).convert(\"RGB\").resize(target_size)\n",
    "            img_array = np.array(img)\n",
    "            if normalize:\n",
    "                img_array = img_array / 255.0\n",
    "            return img_array\n",
    "        except Exception as e:\n",
    "            print(f\"Error loading image {image_path}: {e}\")\n",
    "            return None\n",
    "\n",
    "    def get_labels(self, idx):\n",
    "        row = self.data.iloc[idx]\n",
    "        is_cancerous = int(row[\"isCancerous\"])\n",
    "        cell_type = row.get(\"cellTypeName\", None)\n",
    "        return is_cancerous, cell_type\n",
    "\n",
    "    def get_sample(self, idx, target_size=(27, 27), normalize=True):\n",
    "        image = self.get_image(idx, target_size, normalize)\n",
    "        is_cancerous, cell_type = self.get_labels(idx)\n",
    "        return image, is_cancerous, cell_type\n",
    "\n",
    "    def get_data_split(self, label_type=\"isCancerous\"):\n",
    "        \"\"\"\n",
    "        Get data suitable for training/testing\n",
    "        label_type: \"isCancerous\" or \"cellTypeName\"\n",
    "        \"\"\"\n",
    "        X, y = [], []\n",
    "        for idx in range(len(self.data)):\n",
    "            image = self.get_image(idx)\n",
    "            label = self.data.iloc[idx][label_type]\n",
    "            if pd.isna(label) or image is None:\n",
    "                continue\n",
    "            X.append(image)\n",
    "            y.append(label)\n",
    "        return np.array(X), np.array(y)"
   ]
  },
  {
   "cell_type": "code",
   "execution_count": 16,
   "id": "545607a0",
   "metadata": {},
   "outputs": [
    {
     "name": "stdout",
     "output_type": "stream",
     "text": [
      "(27, 27, 3) 0 fibroblast\n"
     ]
    }
   ],
   "source": [
    "# Initialize server\n",
    "server = ColonCancerPatchServer(\n",
    "    main_data_path=\"Image_classification_data\\data_labels_mainData.csv\",\n",
    "    extra_data_path=\"Image_classification_data\\data_labels_extraData.csv\",\n",
    "    image_folder=\"Image_classification_data\\patch_images\"\n",
    ")\n",
    "\n",
    "# Get a single sample\n",
    "img, cancer_label, cell_type = server.get_sample(0)\n",
    "print(img.shape, cancer_label, cell_type)"
   ]
  },
  {
   "cell_type": "code",
   "execution_count": 17,
   "id": "487909ac",
   "metadata": {},
   "outputs": [
    {
     "data": {
      "image/png": "[encoded data removed]",
      "text/plain": [
       "<Figure size 640x480 with 1 Axes>"
      ]
     },
     "metadata": {},
     "output_type": "display_data"
    }
   ],
   "source": [
    "# Load sample image from index 0\n",
    "image, is_cancerous, cell_type = server.get_sample(0)\n",
    "\n",
    "# Plot the image\n",
    "plt.imshow(image)\n",
    "plt.title(f\"Cell Type: {cell_type}, Cancerous: {is_cancerous}\")\n",
    "plt.axis(\"off\")\n",
    "plt.show()"
   ]
  }
 ],
 "metadata": {
  "kernelspec": {
   "display_name": "base",
   "language": "python",
   "name": "python3"
  },
  "language_info": {
   "codemirror_mode": {
    "name": "ipython",
    "version": 3
   },
   "file_extension": ".py",
   "mimetype": "text/x-python",
   "name": "python",
   "nbconvert_exporter": "python",
   "pygments_lexer": "ipython3",
   "version": "3.11.7"
  }
 },
 "nbformat": 4,
 "nbformat_minor": 5
}
