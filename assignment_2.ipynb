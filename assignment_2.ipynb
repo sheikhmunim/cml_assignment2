{
 "cells": [
  {
   "cell_type": "markdown",
   "id": "9b2859a2",
   "metadata": {},
   "source": [
    "## Assignment 1 - Machine Learning Project\n",
    "### Project 1: Classify Images of Colon Cancer\n",
    "##### Group No. 3: Sheikh Abdul Munim (s4076159), Liya Benoy (s4027344)"
   ]
  }
 ],
 "metadata": {
  "kernelspec": {
   "display_name": "Python 3 (ipykernel)",
   "language": "python",
   "name": "python3"
  },
  "language_info": {
   "codemirror_mode": {
    "name": "ipython",
    "version": 3
   },
   "file_extension": ".py",
   "mimetype": "text/x-python",
   "name": "python",
   "nbconvert_exporter": "python",
   "pygments_lexer": "ipython3",
   "version": "3.11.7"
  }
 },
 "nbformat": 4,
 "nbformat_minor": 5
}
